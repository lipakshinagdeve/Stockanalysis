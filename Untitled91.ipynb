{
 "cells": [
  {
   "cell_type": "code",
   "execution_count": 1,
   "id": "890eb9ac-dc92-4ef1-bfa1-bd7b1335315c",
   "metadata": {},
   "outputs": [],
   "source": [
    "import pandas as pd\n",
    "import numpy as np "
   ]
  },
  {
   "cell_type": "code",
   "execution_count": 2,
   "id": "2cfea4db-fe05-4ceb-ad62-44c3d2a8c950",
   "metadata": {},
   "outputs": [
    {
     "name": "stdout",
     "output_type": "stream",
     "text": [
      "  Nasdaq Traded Symbol                                      Security Name  \\\n",
      "0             Y      A            Agilent Technologies, Inc. Common Stock   \n",
      "1             Y     AA                    Alcoa Corporation Common Stock    \n",
      "2             Y   AAAU                       Perth Mint Physical Gold ETF   \n",
      "3             Y   AACG  ATA Creativity Global - American Depositary Sh...   \n",
      "4             Y   AADR                AdvisorShares Dorsey Wright ADR ETF   \n",
      "\n",
      "  Listing Exchange Market Category ETF  Round Lot Size Test Issue  \\\n",
      "0                N                   N           100.0          N   \n",
      "1                N                   N           100.0          N   \n",
      "2                P                   Y           100.0          N   \n",
      "3                Q               G   N           100.0          N   \n",
      "4                P                   Y           100.0          N   \n",
      "\n",
      "  Financial Status CQS Symbol NASDAQ Symbol NextShares  \n",
      "0              NaN          A             A          N  \n",
      "1              NaN         AA            AA          N  \n",
      "2              NaN       AAAU          AAAU          N  \n",
      "3                N        NaN          AACG          N  \n",
      "4              NaN       AADR          AADR          N  \n"
     ]
    }
   ],
   "source": [
    "df= pd.read_csv('projectdata.csv')\n",
    "print(df.head())"
   ]
  },
  {
   "cell_type": "code",
   "execution_count": 3,
   "id": "ca57a0e7-ab9e-4f65-9032-dc48e3ba5bfe",
   "metadata": {},
   "outputs": [
    {
     "name": "stdout",
     "output_type": "stream",
     "text": [
      "Nasdaq Traded       0\n",
      "Symbol              0\n",
      "Security Name       0\n",
      "Listing Exchange    0\n",
      "Market Category     0\n",
      "ETF                 0\n",
      "Round Lot Size      0\n",
      "Test Issue          0\n",
      "Financial Status    0\n",
      "CQS Symbol          0\n",
      "NASDAQ Symbol       0\n",
      "NextShares          0\n",
      "dtype: int64\n"
     ]
    }
   ],
   "source": [
    "numeric_cols = df.select_dtypes(include='number').columns\n",
    "non_numeric_cols = df.select_dtypes(exclude='number').columns\n",
    "df[numeric_cols] = df[numeric_cols].fillna(df[numeric_cols].mean())\n",
    "for col in non_numeric_cols:\n",
    "    df[col] = df[col].fillna(df[col].mode()[0])\n",
    "print(df.isnull().sum())"
   ]
  },
  {
   "cell_type": "code",
   "execution_count": 4,
   "id": "c1e2339e-d18d-4d0f-bf30-23bb2bc8951d",
   "metadata": {},
   "outputs": [
    {
     "name": "stdout",
     "output_type": "stream",
     "text": [
      "       Round Lot Size\n",
      "count     8049.000000\n",
      "mean        99.942974\n",
      "std          2.289194\n",
      "min          1.000000\n",
      "25%        100.000000\n",
      "50%        100.000000\n",
      "75%        100.000000\n",
      "max        100.000000\n",
      "<class 'pandas.core.frame.DataFrame'>\n",
      "RangeIndex: 8049 entries, 0 to 8048\n",
      "Data columns (total 12 columns):\n",
      " #   Column            Non-Null Count  Dtype  \n",
      "---  ------            --------------  -----  \n",
      " 0   Nasdaq Traded     8049 non-null   object \n",
      " 1   Symbol            8049 non-null   object \n",
      " 2   Security Name     8049 non-null   object \n",
      " 3   Listing Exchange  8049 non-null   object \n",
      " 4   Market Category   8049 non-null   object \n",
      " 5   ETF               8049 non-null   object \n",
      " 6   Round Lot Size    8049 non-null   float64\n",
      " 7   Test Issue        8049 non-null   object \n",
      " 8   Financial Status  8049 non-null   object \n",
      " 9   CQS Symbol        8049 non-null   object \n",
      " 10  NASDAQ Symbol     8049 non-null   object \n",
      " 11  NextShares        8049 non-null   object \n",
      "dtypes: float64(1), object(11)\n",
      "memory usage: 754.7+ KB\n",
      "None\n",
      "['A' 'AA' 'AAAU' ... 'ZYME' 'ZYNE' 'ZYXI']\n",
      "Symbol\n",
      "A       1\n",
      "OUSM    1\n",
      "OXLC    1\n",
      "OXFD    1\n",
      "OXBR    1\n",
      "       ..\n",
      "FLTB    1\n",
      "FLT     1\n",
      "FLSW    1\n",
      "FLSP    1\n",
      "ZYXI    1\n",
      "Name: count, Length: 8049, dtype: int64\n"
     ]
    }
   ],
   "source": [
    "print(df.describe())\n",
    "print(df.info())\n",
    "print(df['Symbol'].unique())\n",
    "print(df['Symbol'].value_counts())"
   ]
  },
  {
   "cell_type": "code",
   "execution_count": 6,
   "id": "93f19e29-cf1b-442e-b96a-81e3336e9f0b",
   "metadata": {},
   "outputs": [],
   "source": [
    "df['Round Lot Size'] = pd.to_numeric(df['Round Lot Size'], errors='coerce')"
   ]
  },
  {
   "cell_type": "code",
   "execution_count": 8,
   "id": "3f6090c4-3d2b-4d35-8645-05c6b187fb59",
   "metadata": {},
   "outputs": [],
   "source": [
    "filtered_df = df[df['Round Lot Size'] > 10]"
   ]
  },
  {
   "cell_type": "code",
   "execution_count": null,
   "id": "b3598f33-9bf1-408f-aff0-78ae992fb9fb",
   "metadata": {},
   "outputs": [],
   "source": [
    "grouped_df = df.groupby('ETF').mean()\n",
    "print(grouped_df)"
   ]
  },
  {
   "cell_type": "code",
   "execution_count": 10,
   "id": "a695d8d0-db8a-46ba-851e-c6c3d5866cd9",
   "metadata": {},
   "outputs": [
    {
     "data": {
      "image/png": "[encoded data removed]",
      "text/plain": [
       "<Figure size 640x480 with 1 Axes>"
      ]
     },
     "metadata": {},
     "output_type": "display_data"
    }
   ],
   "source": [
    "import matplotlib.pyplot as plt\n",
    "\n",
    "# Plot a histogram of the 'Round Lot Size' column\n",
    "df['Round Lot Size'].hist()\n",
    "plt.title('Histogram of Round Lot Size')\n",
    "plt.xlabel('Round Lot Size')\n",
    "plt.ylabel('Frequency')\n",
    "plt.show()\n"
   ]
  },
  {
   "cell_type": "code",
   "execution_count": 12,
   "id": "90a954a3-e40a-4318-bdd6-3222bb4e0794",
   "metadata": {},
   "outputs": [],
   "source": [
    "df.to_csv('processed_data.csv', index=False)"
   ]
  },
  {
   "cell_type": "code",
   "execution_count": null,
   "id": "47cefe83-928f-4470-b14d-cdb280ee63e8",
   "metadata": {},
   "outputs": [],
   "source": []
  }
 ],
 "metadata": {
  "kernelspec": {
   "display_name": "Python 3 (ipykernel)",
   "language": "python",
   "name": "python3"
  },
  "language_info": {
   "codemirror_mode": {
    "name": "ipython",
    "version": 3
   },
   "file_extension": ".py",
   "mimetype": "text/x-python",
   "name": "python",
   "nbconvert_exporter": "python",
   "pygments_lexer": "ipython3",
   "version": "3.9.13"
  }
 },
 "nbformat": 4,
 "nbformat_minor": 5
}
